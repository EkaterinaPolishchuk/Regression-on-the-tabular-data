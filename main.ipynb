{
 "cells": [
  {
   "cell_type": "markdown",
   "id": "f8f4c000-b43c-41d6-b858-4b208df03787",
   "metadata": {},
   "source": [
    "## Data preparation"
   ]
  },
  {
   "cell_type": "code",
   "execution_count": 86,
   "id": "3652c33d-60ef-4616-95dc-2f8f141c5e74",
   "metadata": {},
   "outputs": [],
   "source": [
    "# import modules\n",
    "import pandas as pd\n",
    "import matplotlib.pyplot as plt\n",
    "from sklearn.model_selection import train_test_split \n",
    "from sklearn.preprocessing import MinMaxScaler\n",
    "from sklearn.pipeline import Pipeline\n",
    "from sklearn.ensemble import RandomForestRegressor"
   ]
  },
  {
   "cell_type": "code",
   "execution_count": 87,
   "id": "5c16fe86-b5c5-4dcc-99c8-add26f632896",
   "metadata": {},
   "outputs": [],
   "source": [
    "train_df = pd.read_csv('internship_train.csv')"
   ]
  },
  {
   "cell_type": "code",
   "execution_count": 88,
   "id": "3a472c80-6ba2-4d7a-8547-1fba30f08acf",
   "metadata": {
    "tags": []
   },
   "outputs": [
    {
     "data": {
      "text/html": [
       "<div>\n",
       "<style scoped>\n",
       "    .dataframe tbody tr th:only-of-type {\n",
       "        vertical-align: middle;\n",
       "    }\n",
       "\n",
       "    .dataframe tbody tr th {\n",
       "        vertical-align: top;\n",
       "    }\n",
       "\n",
       "    .dataframe thead th {\n",
       "        text-align: right;\n",
       "    }\n",
       "</style>\n",
       "<table border=\"1\" class=\"dataframe\">\n",
       "  <thead>\n",
       "    <tr style=\"text-align: right;\">\n",
       "      <th></th>\n",
       "      <th>0</th>\n",
       "      <th>1</th>\n",
       "      <th>2</th>\n",
       "      <th>3</th>\n",
       "      <th>4</th>\n",
       "      <th>5</th>\n",
       "      <th>6</th>\n",
       "      <th>7</th>\n",
       "      <th>8</th>\n",
       "      <th>9</th>\n",
       "      <th>...</th>\n",
       "      <th>44</th>\n",
       "      <th>45</th>\n",
       "      <th>46</th>\n",
       "      <th>47</th>\n",
       "      <th>48</th>\n",
       "      <th>49</th>\n",
       "      <th>50</th>\n",
       "      <th>51</th>\n",
       "      <th>52</th>\n",
       "      <th>target</th>\n",
       "    </tr>\n",
       "  </thead>\n",
       "  <tbody>\n",
       "    <tr>\n",
       "      <th>0</th>\n",
       "      <td>236</td>\n",
       "      <td>488</td>\n",
       "      <td>16</td>\n",
       "      <td>221</td>\n",
       "      <td>382</td>\n",
       "      <td>97</td>\n",
       "      <td>-4.472136</td>\n",
       "      <td>0.107472</td>\n",
       "      <td>0</td>\n",
       "      <td>132</td>\n",
       "      <td>...</td>\n",
       "      <td>13.340874</td>\n",
       "      <td>0.870542</td>\n",
       "      <td>1.962937</td>\n",
       "      <td>7.466666</td>\n",
       "      <td>11.547794</td>\n",
       "      <td>8.822916</td>\n",
       "      <td>9.046424</td>\n",
       "      <td>7.895535</td>\n",
       "      <td>11.010677</td>\n",
       "      <td>20.107472</td>\n",
       "    </tr>\n",
       "    <tr>\n",
       "      <th>1</th>\n",
       "      <td>386</td>\n",
       "      <td>206</td>\n",
       "      <td>357</td>\n",
       "      <td>232</td>\n",
       "      <td>1</td>\n",
       "      <td>198</td>\n",
       "      <td>7.810250</td>\n",
       "      <td>0.763713</td>\n",
       "      <td>1</td>\n",
       "      <td>143</td>\n",
       "      <td>...</td>\n",
       "      <td>12.484882</td>\n",
       "      <td>7.168680</td>\n",
       "      <td>2.885415</td>\n",
       "      <td>12.413973</td>\n",
       "      <td>10.260494</td>\n",
       "      <td>10.091351</td>\n",
       "      <td>9.270888</td>\n",
       "      <td>3.173994</td>\n",
       "      <td>13.921871</td>\n",
       "      <td>61.763713</td>\n",
       "    </tr>\n",
       "    <tr>\n",
       "      <th>2</th>\n",
       "      <td>429</td>\n",
       "      <td>49</td>\n",
       "      <td>481</td>\n",
       "      <td>111</td>\n",
       "      <td>111</td>\n",
       "      <td>146</td>\n",
       "      <td>8.602325</td>\n",
       "      <td>0.651162</td>\n",
       "      <td>1</td>\n",
       "      <td>430</td>\n",
       "      <td>...</td>\n",
       "      <td>14.030257</td>\n",
       "      <td>0.394970</td>\n",
       "      <td>8.160625</td>\n",
       "      <td>12.592059</td>\n",
       "      <td>8.937577</td>\n",
       "      <td>2.265191</td>\n",
       "      <td>11.255721</td>\n",
       "      <td>12.794841</td>\n",
       "      <td>12.080951</td>\n",
       "      <td>74.651162</td>\n",
       "    </tr>\n",
       "    <tr>\n",
       "      <th>3</th>\n",
       "      <td>414</td>\n",
       "      <td>350</td>\n",
       "      <td>481</td>\n",
       "      <td>370</td>\n",
       "      <td>208</td>\n",
       "      <td>158</td>\n",
       "      <td>8.306624</td>\n",
       "      <td>0.424645</td>\n",
       "      <td>1</td>\n",
       "      <td>340</td>\n",
       "      <td>...</td>\n",
       "      <td>2.789577</td>\n",
       "      <td>6.416708</td>\n",
       "      <td>10.549814</td>\n",
       "      <td>11.456437</td>\n",
       "      <td>6.468099</td>\n",
       "      <td>2.519049</td>\n",
       "      <td>0.258284</td>\n",
       "      <td>9.317696</td>\n",
       "      <td>5.383098</td>\n",
       "      <td>69.424645</td>\n",
       "    </tr>\n",
       "    <tr>\n",
       "      <th>4</th>\n",
       "      <td>318</td>\n",
       "      <td>359</td>\n",
       "      <td>20</td>\n",
       "      <td>218</td>\n",
       "      <td>317</td>\n",
       "      <td>301</td>\n",
       "      <td>8.124038</td>\n",
       "      <td>0.767304</td>\n",
       "      <td>1</td>\n",
       "      <td>212</td>\n",
       "      <td>...</td>\n",
       "      <td>1.886560</td>\n",
       "      <td>1.919999</td>\n",
       "      <td>2.268203</td>\n",
       "      <td>0.149421</td>\n",
       "      <td>4.105907</td>\n",
       "      <td>10.416291</td>\n",
       "      <td>6.816217</td>\n",
       "      <td>8.586960</td>\n",
       "      <td>4.512419</td>\n",
       "      <td>66.767304</td>\n",
       "    </tr>\n",
       "  </tbody>\n",
       "</table>\n",
       "<p>5 rows × 54 columns</p>\n",
       "</div>"
      ],
      "text/plain": [
       "     0    1    2    3    4    5         6         7  8    9  ...         44  \\\n",
       "0  236  488   16  221  382   97 -4.472136  0.107472  0  132  ...  13.340874   \n",
       "1  386  206  357  232    1  198  7.810250  0.763713  1  143  ...  12.484882   \n",
       "2  429   49  481  111  111  146  8.602325  0.651162  1  430  ...  14.030257   \n",
       "3  414  350  481  370  208  158  8.306624  0.424645  1  340  ...   2.789577   \n",
       "4  318  359   20  218  317  301  8.124038  0.767304  1  212  ...   1.886560   \n",
       "\n",
       "         45         46         47         48         49         50         51  \\\n",
       "0  0.870542   1.962937   7.466666  11.547794   8.822916   9.046424   7.895535   \n",
       "1  7.168680   2.885415  12.413973  10.260494  10.091351   9.270888   3.173994   \n",
       "2  0.394970   8.160625  12.592059   8.937577   2.265191  11.255721  12.794841   \n",
       "3  6.416708  10.549814  11.456437   6.468099   2.519049   0.258284   9.317696   \n",
       "4  1.919999   2.268203   0.149421   4.105907  10.416291   6.816217   8.586960   \n",
       "\n",
       "          52     target  \n",
       "0  11.010677  20.107472  \n",
       "1  13.921871  61.763713  \n",
       "2  12.080951  74.651162  \n",
       "3   5.383098  69.424645  \n",
       "4   4.512419  66.767304  \n",
       "\n",
       "[5 rows x 54 columns]"
      ]
     },
     "execution_count": 88,
     "metadata": {},
     "output_type": "execute_result"
    }
   ],
   "source": [
    "# First look at the data\n",
    "train_df.head(5)"
   ]
  },
  {
   "cell_type": "markdown",
   "id": "a3b0e012-1637-4d6d-b2fa-e6c8abf2a24c",
   "metadata": {},
   "source": [
    "Make sure there are no missing values in the data"
   ]
  },
  {
   "cell_type": "code",
   "execution_count": 89,
   "id": "163a36ed-7b58-4a3d-ac1b-87e6d7167317",
   "metadata": {
    "tags": []
   },
   "outputs": [
    {
     "data": {
      "text/plain": [
       "0         0\n",
       "1         0\n",
       "2         0\n",
       "3         0\n",
       "4         0\n",
       "5         0\n",
       "6         0\n",
       "7         0\n",
       "8         0\n",
       "9         0\n",
       "10        0\n",
       "11        0\n",
       "12        0\n",
       "13        0\n",
       "14        0\n",
       "15        0\n",
       "16        0\n",
       "17        0\n",
       "18        0\n",
       "19        0\n",
       "20        0\n",
       "21        0\n",
       "22        0\n",
       "23        0\n",
       "24        0\n",
       "25        0\n",
       "26        0\n",
       "27        0\n",
       "28        0\n",
       "29        0\n",
       "30        0\n",
       "31        0\n",
       "32        0\n",
       "33        0\n",
       "34        0\n",
       "35        0\n",
       "36        0\n",
       "37        0\n",
       "38        0\n",
       "39        0\n",
       "40        0\n",
       "41        0\n",
       "42        0\n",
       "43        0\n",
       "44        0\n",
       "45        0\n",
       "46        0\n",
       "47        0\n",
       "48        0\n",
       "49        0\n",
       "50        0\n",
       "51        0\n",
       "52        0\n",
       "target    0\n",
       "dtype: int64"
      ]
     },
     "execution_count": 89,
     "metadata": {},
     "output_type": "execute_result"
    }
   ],
   "source": [
    "train_df.isnull().sum()"
   ]
  },
  {
   "cell_type": "markdown",
   "id": "48da504b-eb30-4e55-9f75-f117184baf2c",
   "metadata": {},
   "source": [
    "Let's look at the standard deviation and variance"
   ]
  },
  {
   "cell_type": "code",
   "execution_count": 90,
   "id": "a1371022-e442-4fb1-84c9-59fd1f02b362",
   "metadata": {
    "tags": []
   },
   "outputs": [
    {
     "data": {
      "text/html": [
       "<div>\n",
       "<style scoped>\n",
       "    .dataframe tbody tr th:only-of-type {\n",
       "        vertical-align: middle;\n",
       "    }\n",
       "\n",
       "    .dataframe tbody tr th {\n",
       "        vertical-align: top;\n",
       "    }\n",
       "\n",
       "    .dataframe thead th {\n",
       "        text-align: right;\n",
       "    }\n",
       "</style>\n",
       "<table border=\"1\" class=\"dataframe\">\n",
       "  <thead>\n",
       "    <tr style=\"text-align: right;\">\n",
       "      <th></th>\n",
       "      <th>0</th>\n",
       "      <th>1</th>\n",
       "      <th>2</th>\n",
       "      <th>3</th>\n",
       "      <th>4</th>\n",
       "      <th>5</th>\n",
       "      <th>6</th>\n",
       "      <th>7</th>\n",
       "      <th>8</th>\n",
       "      <th>9</th>\n",
       "      <th>...</th>\n",
       "      <th>44</th>\n",
       "      <th>45</th>\n",
       "      <th>46</th>\n",
       "      <th>47</th>\n",
       "      <th>48</th>\n",
       "      <th>49</th>\n",
       "      <th>50</th>\n",
       "      <th>51</th>\n",
       "      <th>52</th>\n",
       "      <th>target</th>\n",
       "    </tr>\n",
       "  </thead>\n",
       "  <tbody>\n",
       "    <tr>\n",
       "      <th>count</th>\n",
       "      <td>90000.000000</td>\n",
       "      <td>90000.000000</td>\n",
       "      <td>90000.000000</td>\n",
       "      <td>90000.000000</td>\n",
       "      <td>90000.000000</td>\n",
       "      <td>90000.000000</td>\n",
       "      <td>90000.000000</td>\n",
       "      <td>90000.000000</td>\n",
       "      <td>90000.000000</td>\n",
       "      <td>90000.000000</td>\n",
       "      <td>...</td>\n",
       "      <td>90000.000000</td>\n",
       "      <td>90000.000000</td>\n",
       "      <td>90000.000000</td>\n",
       "      <td>90000.000000</td>\n",
       "      <td>90000.000000</td>\n",
       "      <td>90000.000000</td>\n",
       "      <td>90000.000000</td>\n",
       "      <td>90000.000000</td>\n",
       "      <td>90000.000000</td>\n",
       "      <td>90000.000000</td>\n",
       "    </tr>\n",
       "    <tr>\n",
       "      <th>mean</th>\n",
       "      <td>249.423944</td>\n",
       "      <td>250.236267</td>\n",
       "      <td>248.637289</td>\n",
       "      <td>249.736600</td>\n",
       "      <td>249.436178</td>\n",
       "      <td>249.656167</td>\n",
       "      <td>-0.011402</td>\n",
       "      <td>0.498548</td>\n",
       "      <td>0.499189</td>\n",
       "      <td>249.842033</td>\n",
       "      <td>...</td>\n",
       "      <td>7.475155</td>\n",
       "      <td>7.523962</td>\n",
       "      <td>7.508397</td>\n",
       "      <td>7.473322</td>\n",
       "      <td>7.490658</td>\n",
       "      <td>7.474578</td>\n",
       "      <td>7.509206</td>\n",
       "      <td>7.487159</td>\n",
       "      <td>7.513316</td>\n",
       "      <td>50.033981</td>\n",
       "    </tr>\n",
       "    <tr>\n",
       "      <th>std</th>\n",
       "      <td>144.336393</td>\n",
       "      <td>144.022200</td>\n",
       "      <td>144.107577</td>\n",
       "      <td>144.284945</td>\n",
       "      <td>143.941581</td>\n",
       "      <td>144.329168</td>\n",
       "      <td>7.038171</td>\n",
       "      <td>0.288682</td>\n",
       "      <td>0.500002</td>\n",
       "      <td>144.612718</td>\n",
       "      <td>...</td>\n",
       "      <td>4.330410</td>\n",
       "      <td>4.321537</td>\n",
       "      <td>4.331761</td>\n",
       "      <td>4.335692</td>\n",
       "      <td>4.332122</td>\n",
       "      <td>4.323035</td>\n",
       "      <td>4.326364</td>\n",
       "      <td>4.324876</td>\n",
       "      <td>4.333080</td>\n",
       "      <td>28.897243</td>\n",
       "    </tr>\n",
       "    <tr>\n",
       "      <th>min</th>\n",
       "      <td>0.000000</td>\n",
       "      <td>0.000000</td>\n",
       "      <td>0.000000</td>\n",
       "      <td>0.000000</td>\n",
       "      <td>0.000000</td>\n",
       "      <td>0.000000</td>\n",
       "      <td>-9.949874</td>\n",
       "      <td>0.000014</td>\n",
       "      <td>0.000000</td>\n",
       "      <td>0.000000</td>\n",
       "      <td>...</td>\n",
       "      <td>0.000019</td>\n",
       "      <td>0.000040</td>\n",
       "      <td>0.000154</td>\n",
       "      <td>0.000083</td>\n",
       "      <td>0.000367</td>\n",
       "      <td>0.000014</td>\n",
       "      <td>0.000160</td>\n",
       "      <td>0.000147</td>\n",
       "      <td>0.000125</td>\n",
       "      <td>0.002634</td>\n",
       "    </tr>\n",
       "    <tr>\n",
       "      <th>25%</th>\n",
       "      <td>125.000000</td>\n",
       "      <td>126.000000</td>\n",
       "      <td>124.000000</td>\n",
       "      <td>125.000000</td>\n",
       "      <td>125.000000</td>\n",
       "      <td>124.000000</td>\n",
       "      <td>-7.071068</td>\n",
       "      <td>0.248932</td>\n",
       "      <td>0.000000</td>\n",
       "      <td>124.000000</td>\n",
       "      <td>...</td>\n",
       "      <td>3.707544</td>\n",
       "      <td>3.797002</td>\n",
       "      <td>3.760627</td>\n",
       "      <td>3.715721</td>\n",
       "      <td>3.739358</td>\n",
       "      <td>3.715298</td>\n",
       "      <td>3.773381</td>\n",
       "      <td>3.743536</td>\n",
       "      <td>3.776322</td>\n",
       "      <td>25.091903</td>\n",
       "    </tr>\n",
       "    <tr>\n",
       "      <th>50%</th>\n",
       "      <td>250.000000</td>\n",
       "      <td>251.000000</td>\n",
       "      <td>248.000000</td>\n",
       "      <td>250.000000</td>\n",
       "      <td>250.000000</td>\n",
       "      <td>250.000000</td>\n",
       "      <td>0.000000</td>\n",
       "      <td>0.497136</td>\n",
       "      <td>0.000000</td>\n",
       "      <td>250.000000</td>\n",
       "      <td>...</td>\n",
       "      <td>7.474127</td>\n",
       "      <td>7.533987</td>\n",
       "      <td>7.505259</td>\n",
       "      <td>7.459774</td>\n",
       "      <td>7.494167</td>\n",
       "      <td>7.477270</td>\n",
       "      <td>7.512575</td>\n",
       "      <td>7.476564</td>\n",
       "      <td>7.506812</td>\n",
       "      <td>50.030705</td>\n",
       "    </tr>\n",
       "    <tr>\n",
       "      <th>75%</th>\n",
       "      <td>374.000000</td>\n",
       "      <td>375.000000</td>\n",
       "      <td>374.000000</td>\n",
       "      <td>375.000000</td>\n",
       "      <td>373.000000</td>\n",
       "      <td>374.000000</td>\n",
       "      <td>7.000000</td>\n",
       "      <td>0.747513</td>\n",
       "      <td>1.000000</td>\n",
       "      <td>376.000000</td>\n",
       "      <td>...</td>\n",
       "      <td>11.216585</td>\n",
       "      <td>11.276349</td>\n",
       "      <td>11.261971</td>\n",
       "      <td>11.215637</td>\n",
       "      <td>11.239232</td>\n",
       "      <td>11.210070</td>\n",
       "      <td>11.268156</td>\n",
       "      <td>11.234414</td>\n",
       "      <td>11.277835</td>\n",
       "      <td>75.059454</td>\n",
       "    </tr>\n",
       "    <tr>\n",
       "      <th>max</th>\n",
       "      <td>499.000000</td>\n",
       "      <td>499.000000</td>\n",
       "      <td>499.000000</td>\n",
       "      <td>499.000000</td>\n",
       "      <td>499.000000</td>\n",
       "      <td>499.000000</td>\n",
       "      <td>9.949874</td>\n",
       "      <td>0.999987</td>\n",
       "      <td>1.000000</td>\n",
       "      <td>499.000000</td>\n",
       "      <td>...</td>\n",
       "      <td>14.999900</td>\n",
       "      <td>14.999528</td>\n",
       "      <td>14.999733</td>\n",
       "      <td>14.999478</td>\n",
       "      <td>14.999869</td>\n",
       "      <td>14.999928</td>\n",
       "      <td>14.999948</td>\n",
       "      <td>14.999364</td>\n",
       "      <td>14.999775</td>\n",
       "      <td>99.999482</td>\n",
       "    </tr>\n",
       "  </tbody>\n",
       "</table>\n",
       "<p>8 rows × 54 columns</p>\n",
       "</div>"
      ],
      "text/plain": [
       "                  0             1             2             3             4  \\\n",
       "count  90000.000000  90000.000000  90000.000000  90000.000000  90000.000000   \n",
       "mean     249.423944    250.236267    248.637289    249.736600    249.436178   \n",
       "std      144.336393    144.022200    144.107577    144.284945    143.941581   \n",
       "min        0.000000      0.000000      0.000000      0.000000      0.000000   \n",
       "25%      125.000000    126.000000    124.000000    125.000000    125.000000   \n",
       "50%      250.000000    251.000000    248.000000    250.000000    250.000000   \n",
       "75%      374.000000    375.000000    374.000000    375.000000    373.000000   \n",
       "max      499.000000    499.000000    499.000000    499.000000    499.000000   \n",
       "\n",
       "                  5             6             7             8             9  \\\n",
       "count  90000.000000  90000.000000  90000.000000  90000.000000  90000.000000   \n",
       "mean     249.656167     -0.011402      0.498548      0.499189    249.842033   \n",
       "std      144.329168      7.038171      0.288682      0.500002    144.612718   \n",
       "min        0.000000     -9.949874      0.000014      0.000000      0.000000   \n",
       "25%      124.000000     -7.071068      0.248932      0.000000    124.000000   \n",
       "50%      250.000000      0.000000      0.497136      0.000000    250.000000   \n",
       "75%      374.000000      7.000000      0.747513      1.000000    376.000000   \n",
       "max      499.000000      9.949874      0.999987      1.000000    499.000000   \n",
       "\n",
       "       ...            44            45            46            47  \\\n",
       "count  ...  90000.000000  90000.000000  90000.000000  90000.000000   \n",
       "mean   ...      7.475155      7.523962      7.508397      7.473322   \n",
       "std    ...      4.330410      4.321537      4.331761      4.335692   \n",
       "min    ...      0.000019      0.000040      0.000154      0.000083   \n",
       "25%    ...      3.707544      3.797002      3.760627      3.715721   \n",
       "50%    ...      7.474127      7.533987      7.505259      7.459774   \n",
       "75%    ...     11.216585     11.276349     11.261971     11.215637   \n",
       "max    ...     14.999900     14.999528     14.999733     14.999478   \n",
       "\n",
       "                 48            49            50            51            52  \\\n",
       "count  90000.000000  90000.000000  90000.000000  90000.000000  90000.000000   \n",
       "mean       7.490658      7.474578      7.509206      7.487159      7.513316   \n",
       "std        4.332122      4.323035      4.326364      4.324876      4.333080   \n",
       "min        0.000367      0.000014      0.000160      0.000147      0.000125   \n",
       "25%        3.739358      3.715298      3.773381      3.743536      3.776322   \n",
       "50%        7.494167      7.477270      7.512575      7.476564      7.506812   \n",
       "75%       11.239232     11.210070     11.268156     11.234414     11.277835   \n",
       "max       14.999869     14.999928     14.999948     14.999364     14.999775   \n",
       "\n",
       "             target  \n",
       "count  90000.000000  \n",
       "mean      50.033981  \n",
       "std       28.897243  \n",
       "min        0.002634  \n",
       "25%       25.091903  \n",
       "50%       50.030705  \n",
       "75%       75.059454  \n",
       "max       99.999482  \n",
       "\n",
       "[8 rows x 54 columns]"
      ]
     },
     "execution_count": 90,
     "metadata": {},
     "output_type": "execute_result"
    }
   ],
   "source": [
    "train_df.describe()"
   ]
  },
  {
   "cell_type": "markdown",
   "id": "e4aa282c-68de-405f-b4ed-b7ac5c581b27",
   "metadata": {},
   "source": [
    "Number of unique values in columns"
   ]
  },
  {
   "cell_type": "code",
   "execution_count": 91,
   "id": "a2b10821-c33a-4e16-a79d-1b5bd7315cb4",
   "metadata": {
    "tags": []
   },
   "outputs": [
    {
     "data": {
      "text/plain": [
       "0           500\n",
       "1           500\n",
       "2           500\n",
       "3           500\n",
       "4           500\n",
       "5           500\n",
       "6           199\n",
       "7         90000\n",
       "8             2\n",
       "9           500\n",
       "10          500\n",
       "11          500\n",
       "12          500\n",
       "13        90000\n",
       "14        90000\n",
       "15        90000\n",
       "16        90000\n",
       "17        90000\n",
       "18        90000\n",
       "19        90000\n",
       "20        90000\n",
       "21        90000\n",
       "22        90000\n",
       "23        90000\n",
       "24        90000\n",
       "25        90000\n",
       "26        90000\n",
       "27        90000\n",
       "28        90000\n",
       "29        90000\n",
       "30        90000\n",
       "31        90000\n",
       "32        90000\n",
       "33        90000\n",
       "34        90000\n",
       "35        90000\n",
       "36        90000\n",
       "37        90000\n",
       "38        90000\n",
       "39        90000\n",
       "40        90000\n",
       "41        90000\n",
       "42        90000\n",
       "43        90000\n",
       "44        90000\n",
       "45        90000\n",
       "46        90000\n",
       "47        90000\n",
       "48        90000\n",
       "49        90000\n",
       "50        90000\n",
       "51        90000\n",
       "52        90000\n",
       "target    90000\n",
       "dtype: int64"
      ]
     },
     "execution_count": 91,
     "metadata": {},
     "output_type": "execute_result"
    }
   ],
   "source": [
    "train_df.nunique() "
   ]
  },
  {
   "cell_type": "markdown",
   "id": "c3dfe075-6090-4a09-a3ac-ff42468f02db",
   "metadata": {},
   "source": [
    "Column '8' contains two unique values. Most likely these are categories"
   ]
  },
  {
   "cell_type": "code",
   "execution_count": 92,
   "id": "110a4c7f-d3e1-4503-a723-858cc1a4a9ea",
   "metadata": {
    "tags": []
   },
   "outputs": [
    {
     "data": {
      "text/plain": [
       "0    0\n",
       "1    1\n",
       "2    1\n",
       "3    1\n",
       "4    1\n",
       "Name: 8, dtype: int64"
      ]
     },
     "execution_count": 92,
     "metadata": {},
     "output_type": "execute_result"
    }
   ],
   "source": [
    "train_df['8'][:5]"
   ]
  },
  {
   "cell_type": "markdown",
   "id": "33347451-9f39-4107-bd49-e128c408d875",
   "metadata": {},
   "source": [
    "Check the data types of each column"
   ]
  },
  {
   "cell_type": "code",
   "execution_count": 93,
   "id": "9a9266b5-ff52-4e0b-b3ff-fd9049ebbc68",
   "metadata": {
    "tags": []
   },
   "outputs": [
    {
     "data": {
      "text/plain": [
       "0           int64\n",
       "1           int64\n",
       "2           int64\n",
       "3           int64\n",
       "4           int64\n",
       "5           int64\n",
       "6         float64\n",
       "7         float64\n",
       "8           int64\n",
       "9           int64\n",
       "10          int64\n",
       "11          int64\n",
       "12          int64\n",
       "13        float64\n",
       "14        float64\n",
       "15        float64\n",
       "16        float64\n",
       "17        float64\n",
       "18        float64\n",
       "19        float64\n",
       "20        float64\n",
       "21        float64\n",
       "22        float64\n",
       "23        float64\n",
       "24        float64\n",
       "25        float64\n",
       "26        float64\n",
       "27        float64\n",
       "28        float64\n",
       "29        float64\n",
       "30        float64\n",
       "31        float64\n",
       "32        float64\n",
       "33        float64\n",
       "34        float64\n",
       "35        float64\n",
       "36        float64\n",
       "37        float64\n",
       "38        float64\n",
       "39        float64\n",
       "40        float64\n",
       "41        float64\n",
       "42        float64\n",
       "43        float64\n",
       "44        float64\n",
       "45        float64\n",
       "46        float64\n",
       "47        float64\n",
       "48        float64\n",
       "49        float64\n",
       "50        float64\n",
       "51        float64\n",
       "52        float64\n",
       "target    float64\n",
       "dtype: object"
      ]
     },
     "execution_count": 93,
     "metadata": {},
     "output_type": "execute_result"
    }
   ],
   "source": [
    "train_df.dtypes"
   ]
  },
  {
   "cell_type": "markdown",
   "id": "09e6f2ef-20d4-4874-b47e-4d79f0b420b9",
   "metadata": {},
   "source": [
    "All values are in numeric format. There is no need to process categorical attributes"
   ]
  },
  {
   "cell_type": "markdown",
   "id": "8fb63947-989a-48eb-b852-46dc847276bd",
   "metadata": {},
   "source": [
    "Let's look at the correlation"
   ]
  },
  {
   "cell_type": "code",
   "execution_count": 94,
   "id": "3877f1df-d746-45a4-bfea-0f4f61399dbd",
   "metadata": {
    "tags": []
   },
   "outputs": [
    {
     "data": {
      "text/plain": [
       "0         0.002427\n",
       "1        -0.005545\n",
       "2         0.001003\n",
       "3         0.002807\n",
       "4        -0.001300\n",
       "5        -0.002125\n",
       "6         0.000666\n",
       "7         0.012103\n",
       "8         0.000347\n",
       "9         0.001504\n",
       "10        0.003396\n",
       "11       -0.001566\n",
       "12        0.002016\n",
       "13       -0.001009\n",
       "14       -0.000513\n",
       "15        0.001653\n",
       "16       -0.000853\n",
       "17        0.002953\n",
       "18        0.001197\n",
       "19        0.001520\n",
       "20       -0.000456\n",
       "21        0.002874\n",
       "22        0.000304\n",
       "23        0.001280\n",
       "24        0.001070\n",
       "25        0.004276\n",
       "26        0.006370\n",
       "27       -0.001459\n",
       "28        0.003451\n",
       "29       -0.004785\n",
       "30       -0.000964\n",
       "31        0.005077\n",
       "32        0.000561\n",
       "33       -0.002301\n",
       "34        0.001331\n",
       "35       -0.006267\n",
       "36        0.002624\n",
       "37        0.001642\n",
       "38       -0.003845\n",
       "39        0.006283\n",
       "40       -0.007216\n",
       "41       -0.003770\n",
       "42       -0.002876\n",
       "43        0.000489\n",
       "44        0.003092\n",
       "45       -0.000903\n",
       "46        0.001160\n",
       "47        0.000319\n",
       "48       -0.001183\n",
       "49        0.002473\n",
       "50       -0.005243\n",
       "51       -0.004507\n",
       "52       -0.001203\n",
       "target    1.000000\n",
       "Name: target, dtype: float64"
      ]
     },
     "execution_count": 94,
     "metadata": {},
     "output_type": "execute_result"
    }
   ],
   "source": [
    "corr_matrix = train_df.corr()\n",
    "corr_matrix['target']"
   ]
  },
  {
   "cell_type": "markdown",
   "id": "f1b56cbc-d30b-4227-bded-04b4ae59e11a",
   "metadata": {},
   "source": [
    "Several attributes show low correlation compared to other attributes. Let's look at the results of the trained model and possibly remove these attributes later"
   ]
  },
  {
   "cell_type": "markdown",
   "id": "670661ed-77e9-48da-9d08-ec7e8a623abd",
   "metadata": {},
   "source": [
    "Split the data into X and y"
   ]
  },
  {
   "cell_type": "code",
   "execution_count": 95,
   "id": "5d01eac6-55ca-459e-9fa9-66755b0b9f65",
   "metadata": {
    "tags": []
   },
   "outputs": [],
   "source": [
    "y = train_df['target']\n",
    "train_df.drop(['target'], axis=1, inplace=True)\n",
    "\n",
    "X = train_df.copy()"
   ]
  },
  {
   "cell_type": "markdown",
   "id": "6ca45798-9209-45e8-b2f2-f140a21ecb85",
   "metadata": {},
   "source": [
    "Form the training and test sets"
   ]
  },
  {
   "cell_type": "code",
   "execution_count": 96,
   "id": "28d1a915-1fee-4227-a615-15122c2c06d8",
   "metadata": {},
   "outputs": [],
   "source": [
    "X_train, X_test, y_train, y_test = train_test_split(X, y, test_size=0.2, random_state=42, shuffle=True)"
   ]
  },
  {
   "cell_type": "markdown",
   "id": "2af80f40-2595-4c9e-a0dc-a2f360adabcf",
   "metadata": {
    "tags": []
   },
   "source": [
    "## Normalization"
   ]
  },
  {
   "cell_type": "markdown",
   "id": "28594c95-532e-4de6-a142-73d7f19ad06f",
   "metadata": {},
   "source": [
    "The model that will be trained is RandomForestRegressor. This means that normalizing the data is not necessary"
   ]
  },
  {
   "cell_type": "code",
   "execution_count": 47,
   "id": "28818ef3-8610-4a73-9c7b-b823d5dddd4d",
   "metadata": {
    "tags": []
   },
   "outputs": [],
   "source": [
    "# from sklearn.preprocessing import MinMaxScaler\n",
    "# import numpy as np\n",
    "\n",
    "# scaler = MinMaxScaler()\n",
    "\n",
    "# X_train_scaled = scaler.fit_transform(X_train)\n",
    "# X_test_scaled = scaler.transform(X_test)\n",
    "\n",
    "# y_train = np.array(y_train)"
   ]
  },
  {
   "cell_type": "markdown",
   "id": "cc3d61c7-1a8d-491f-a401-ba5071390ed4",
   "metadata": {},
   "source": [
    "## Model training and initialization \n",
    "Models were compared using Orange Data Mining. RandomForest showed the best RMSE"
   ]
  },
  {
   "cell_type": "code",
   "execution_count": 48,
   "id": "2fcfe6cc-8516-44a8-ad77-05bbbbdfe4ed",
   "metadata": {
    "tags": []
   },
   "outputs": [
    {
     "data": {
      "text/html": [
       "<style>#sk-container-id-4 {color: black;background-color: white;}#sk-container-id-4 pre{padding: 0;}#sk-container-id-4 div.sk-toggleable {background-color: white;}#sk-container-id-4 label.sk-toggleable__label {cursor: pointer;display: block;width: 100%;margin-bottom: 0;padding: 0.3em;box-sizing: border-box;text-align: center;}#sk-container-id-4 label.sk-toggleable__label-arrow:before {content: \"▸\";float: left;margin-right: 0.25em;color: #696969;}#sk-container-id-4 label.sk-toggleable__label-arrow:hover:before {color: black;}#sk-container-id-4 div.sk-estimator:hover label.sk-toggleable__label-arrow:before {color: black;}#sk-container-id-4 div.sk-toggleable__content {max-height: 0;max-width: 0;overflow: hidden;text-align: left;background-color: #f0f8ff;}#sk-container-id-4 div.sk-toggleable__content pre {margin: 0.2em;color: black;border-radius: 0.25em;background-color: #f0f8ff;}#sk-container-id-4 input.sk-toggleable__control:checked~div.sk-toggleable__content {max-height: 200px;max-width: 100%;overflow: auto;}#sk-container-id-4 input.sk-toggleable__control:checked~label.sk-toggleable__label-arrow:before {content: \"▾\";}#sk-container-id-4 div.sk-estimator input.sk-toggleable__control:checked~label.sk-toggleable__label {background-color: #d4ebff;}#sk-container-id-4 div.sk-label input.sk-toggleable__control:checked~label.sk-toggleable__label {background-color: #d4ebff;}#sk-container-id-4 input.sk-hidden--visually {border: 0;clip: rect(1px 1px 1px 1px);clip: rect(1px, 1px, 1px, 1px);height: 1px;margin: -1px;overflow: hidden;padding: 0;position: absolute;width: 1px;}#sk-container-id-4 div.sk-estimator {font-family: monospace;background-color: #f0f8ff;border: 1px dotted black;border-radius: 0.25em;box-sizing: border-box;margin-bottom: 0.5em;}#sk-container-id-4 div.sk-estimator:hover {background-color: #d4ebff;}#sk-container-id-4 div.sk-parallel-item::after {content: \"\";width: 100%;border-bottom: 1px solid gray;flex-grow: 1;}#sk-container-id-4 div.sk-label:hover label.sk-toggleable__label {background-color: #d4ebff;}#sk-container-id-4 div.sk-serial::before {content: \"\";position: absolute;border-left: 1px solid gray;box-sizing: border-box;top: 0;bottom: 0;left: 50%;z-index: 0;}#sk-container-id-4 div.sk-serial {display: flex;flex-direction: column;align-items: center;background-color: white;padding-right: 0.2em;padding-left: 0.2em;position: relative;}#sk-container-id-4 div.sk-item {position: relative;z-index: 1;}#sk-container-id-4 div.sk-parallel {display: flex;align-items: stretch;justify-content: center;background-color: white;position: relative;}#sk-container-id-4 div.sk-item::before, #sk-container-id-4 div.sk-parallel-item::before {content: \"\";position: absolute;border-left: 1px solid gray;box-sizing: border-box;top: 0;bottom: 0;left: 50%;z-index: -1;}#sk-container-id-4 div.sk-parallel-item {display: flex;flex-direction: column;z-index: 1;position: relative;background-color: white;}#sk-container-id-4 div.sk-parallel-item:first-child::after {align-self: flex-end;width: 50%;}#sk-container-id-4 div.sk-parallel-item:last-child::after {align-self: flex-start;width: 50%;}#sk-container-id-4 div.sk-parallel-item:only-child::after {width: 0;}#sk-container-id-4 div.sk-dashed-wrapped {border: 1px dashed gray;margin: 0 0.4em 0.5em 0.4em;box-sizing: border-box;padding-bottom: 0.4em;background-color: white;}#sk-container-id-4 div.sk-label label {font-family: monospace;font-weight: bold;display: inline-block;line-height: 1.2em;}#sk-container-id-4 div.sk-label-container {text-align: center;}#sk-container-id-4 div.sk-container {/* jupyter's `normalize.less` sets `[hidden] { display: none; }` but bootstrap.min.css set `[hidden] { display: none !important; }` so we also need the `!important` here to be able to override the default hidden behavior on the sphinx rendered scikit-learn.org. See: https://github.com/scikit-learn/scikit-learn/issues/21755 */display: inline-block !important;position: relative;}#sk-container-id-4 div.sk-text-repr-fallback {display: none;}</style><div id=\"sk-container-id-4\" class=\"sk-top-container\"><div class=\"sk-text-repr-fallback\"><pre>RandomForestRegressor(random_state=0)</pre><b>In a Jupyter environment, please rerun this cell to show the HTML representation or trust the notebook. <br />On GitHub, the HTML representation is unable to render, please try loading this page with nbviewer.org.</b></div><div class=\"sk-container\" hidden><div class=\"sk-item\"><div class=\"sk-estimator sk-toggleable\"><input class=\"sk-toggleable__control sk-hidden--visually\" id=\"sk-estimator-id-4\" type=\"checkbox\" checked><label for=\"sk-estimator-id-4\" class=\"sk-toggleable__label sk-toggleable__label-arrow\">RandomForestRegressor</label><div class=\"sk-toggleable__content\"><pre>RandomForestRegressor(random_state=0)</pre></div></div></div></div></div>"
      ],
      "text/plain": [
       "RandomForestRegressor(random_state=0)"
      ]
     },
     "execution_count": 48,
     "metadata": {},
     "output_type": "execute_result"
    }
   ],
   "source": [
    "from sklearn.ensemble import RandomForestRegressor\n",
    "\n",
    "forest = RandomForestRegressor(n_estimators=100, random_state=0)\n",
    "forest.fit(X_train, y_train)"
   ]
  },
  {
   "cell_type": "markdown",
   "id": "dd144964-27ff-4ee7-82f6-550fc01aeda8",
   "metadata": {},
   "source": [
    "We will evaluate the model using RMSE"
   ]
  },
  {
   "cell_type": "code",
   "execution_count": 50,
   "id": "b7a3f9e1-2919-4930-8914-f59223652472",
   "metadata": {},
   "outputs": [
    {
     "data": {
      "text/plain": [
       "0.0038279200852112017"
      ]
     },
     "execution_count": 50,
     "metadata": {},
     "output_type": "execute_result"
    }
   ],
   "source": [
    "from sklearn.metrics import mean_squared_error\n",
    "\n",
    "pred = forest.predict(X_test)\n",
    "mean_squared_error(y_test, pred, squared=False)"
   ]
  },
  {
   "cell_type": "markdown",
   "id": "c4d66d6c-df56-48d2-afbb-d35c77b05c10",
   "metadata": {},
   "source": [
    "We will evaluate feature importance"
   ]
  },
  {
   "cell_type": "code",
   "execution_count": 51,
   "id": "e50642c4-4812-4daa-a3ab-b14376a2e26b",
   "metadata": {
    "tags": []
   },
   "outputs": [
    {
     "data": {
      "image/png": "[encoded data removed]",
      "text/plain": [
       "<Figure size 640x480 with 1 Axes>"
      ]
     },
     "metadata": {},
     "output_type": "display_data"
    }
   ],
   "source": [
    "feature_importances(forest)"
   ]
  },
  {
   "cell_type": "code",
   "execution_count": 52,
   "id": "ea1efb6f-4b01-4720-98b8-19850fe69a29",
   "metadata": {},
   "outputs": [],
   "source": [
    "def feature_importances(model):\n",
    "    importances = model.feature_importances_\n",
    "    \n",
    "    df = pd.DataFrame({\"Features\" : train_df.columns, \"Importances\" : importances})\n",
    "    df.set_index('Importances')\n",
    "    \n",
    "    df = df.sort_values('Importances')\n",
    "    \n",
    "    df.plot.bar(color = 'teal')\n",
    "\n"
   ]
  },
  {
   "cell_type": "markdown",
   "id": "01c9e3db-cf10-4b67-8ad2-d3d7faeccd90",
   "metadata": {},
   "source": [
    "The features are sorted in order of importance. The most informative features were found to be 6 and 7. When evaluating correlation, feature 6 showed low correlation. If we had removed it before training and evaluating the model, the model would have performed much worse on the test data"
   ]
  },
  {
   "cell_type": "markdown",
   "id": "1385cfc9-958e-4d1e-8eb8-e99719108057",
   "metadata": {},
   "source": [
    "We will keep only the most informative features and train the model."
   ]
  },
  {
   "cell_type": "code",
   "execution_count": 97,
   "id": "52f37eef-3fd5-49fd-b3f2-cf3daca4b8a9",
   "metadata": {},
   "outputs": [],
   "source": [
    "X = train_df[['6', '7']]\n",
    "\n",
    "X_train, X_test, y_train, y_test = train_test_split(X, y, test_size=0.2, random_state=42, shuffle=True)"
   ]
  },
  {
   "cell_type": "code",
   "execution_count": 55,
   "id": "2815c1d5-a2ee-4534-8c4f-82f315832ea9",
   "metadata": {},
   "outputs": [
    {
     "data": {
      "text/html": [
       "<style>#sk-container-id-6 {color: black;background-color: white;}#sk-container-id-6 pre{padding: 0;}#sk-container-id-6 div.sk-toggleable {background-color: white;}#sk-container-id-6 label.sk-toggleable__label {cursor: pointer;display: block;width: 100%;margin-bottom: 0;padding: 0.3em;box-sizing: border-box;text-align: center;}#sk-container-id-6 label.sk-toggleable__label-arrow:before {content: \"▸\";float: left;margin-right: 0.25em;color: #696969;}#sk-container-id-6 label.sk-toggleable__label-arrow:hover:before {color: black;}#sk-container-id-6 div.sk-estimator:hover label.sk-toggleable__label-arrow:before {color: black;}#sk-container-id-6 div.sk-toggleable__content {max-height: 0;max-width: 0;overflow: hidden;text-align: left;background-color: #f0f8ff;}#sk-container-id-6 div.sk-toggleable__content pre {margin: 0.2em;color: black;border-radius: 0.25em;background-color: #f0f8ff;}#sk-container-id-6 input.sk-toggleable__control:checked~div.sk-toggleable__content {max-height: 200px;max-width: 100%;overflow: auto;}#sk-container-id-6 input.sk-toggleable__control:checked~label.sk-toggleable__label-arrow:before {content: \"▾\";}#sk-container-id-6 div.sk-estimator input.sk-toggleable__control:checked~label.sk-toggleable__label {background-color: #d4ebff;}#sk-container-id-6 div.sk-label input.sk-toggleable__control:checked~label.sk-toggleable__label {background-color: #d4ebff;}#sk-container-id-6 input.sk-hidden--visually {border: 0;clip: rect(1px 1px 1px 1px);clip: rect(1px, 1px, 1px, 1px);height: 1px;margin: -1px;overflow: hidden;padding: 0;position: absolute;width: 1px;}#sk-container-id-6 div.sk-estimator {font-family: monospace;background-color: #f0f8ff;border: 1px dotted black;border-radius: 0.25em;box-sizing: border-box;margin-bottom: 0.5em;}#sk-container-id-6 div.sk-estimator:hover {background-color: #d4ebff;}#sk-container-id-6 div.sk-parallel-item::after {content: \"\";width: 100%;border-bottom: 1px solid gray;flex-grow: 1;}#sk-container-id-6 div.sk-label:hover label.sk-toggleable__label {background-color: #d4ebff;}#sk-container-id-6 div.sk-serial::before {content: \"\";position: absolute;border-left: 1px solid gray;box-sizing: border-box;top: 0;bottom: 0;left: 50%;z-index: 0;}#sk-container-id-6 div.sk-serial {display: flex;flex-direction: column;align-items: center;background-color: white;padding-right: 0.2em;padding-left: 0.2em;position: relative;}#sk-container-id-6 div.sk-item {position: relative;z-index: 1;}#sk-container-id-6 div.sk-parallel {display: flex;align-items: stretch;justify-content: center;background-color: white;position: relative;}#sk-container-id-6 div.sk-item::before, #sk-container-id-6 div.sk-parallel-item::before {content: \"\";position: absolute;border-left: 1px solid gray;box-sizing: border-box;top: 0;bottom: 0;left: 50%;z-index: -1;}#sk-container-id-6 div.sk-parallel-item {display: flex;flex-direction: column;z-index: 1;position: relative;background-color: white;}#sk-container-id-6 div.sk-parallel-item:first-child::after {align-self: flex-end;width: 50%;}#sk-container-id-6 div.sk-parallel-item:last-child::after {align-self: flex-start;width: 50%;}#sk-container-id-6 div.sk-parallel-item:only-child::after {width: 0;}#sk-container-id-6 div.sk-dashed-wrapped {border: 1px dashed gray;margin: 0 0.4em 0.5em 0.4em;box-sizing: border-box;padding-bottom: 0.4em;background-color: white;}#sk-container-id-6 div.sk-label label {font-family: monospace;font-weight: bold;display: inline-block;line-height: 1.2em;}#sk-container-id-6 div.sk-label-container {text-align: center;}#sk-container-id-6 div.sk-container {/* jupyter's `normalize.less` sets `[hidden] { display: none; }` but bootstrap.min.css set `[hidden] { display: none !important; }` so we also need the `!important` here to be able to override the default hidden behavior on the sphinx rendered scikit-learn.org. See: https://github.com/scikit-learn/scikit-learn/issues/21755 */display: inline-block !important;position: relative;}#sk-container-id-6 div.sk-text-repr-fallback {display: none;}</style><div id=\"sk-container-id-6\" class=\"sk-top-container\"><div class=\"sk-text-repr-fallback\"><pre>RandomForestRegressor(random_state=0)</pre><b>In a Jupyter environment, please rerun this cell to show the HTML representation or trust the notebook. <br />On GitHub, the HTML representation is unable to render, please try loading this page with nbviewer.org.</b></div><div class=\"sk-container\" hidden><div class=\"sk-item\"><div class=\"sk-estimator sk-toggleable\"><input class=\"sk-toggleable__control sk-hidden--visually\" id=\"sk-estimator-id-6\" type=\"checkbox\" checked><label for=\"sk-estimator-id-6\" class=\"sk-toggleable__label sk-toggleable__label-arrow\">RandomForestRegressor</label><div class=\"sk-toggleable__content\"><pre>RandomForestRegressor(random_state=0)</pre></div></div></div></div></div>"
      ],
      "text/plain": [
       "RandomForestRegressor(random_state=0)"
      ]
     },
     "execution_count": 55,
     "metadata": {},
     "output_type": "execute_result"
    }
   ],
   "source": [
    "forest_imp = RandomForestRegressor(n_estimators=100, random_state=0)\n",
    "forest_imp.fit(X_train, y_train)"
   ]
  },
  {
   "cell_type": "code",
   "execution_count": 56,
   "id": "7a24eca0-f0cf-46f9-8186-6d09ed6a0bae",
   "metadata": {},
   "outputs": [
    {
     "data": {
      "text/plain": [
       "0.0016033823281488468"
      ]
     },
     "execution_count": 56,
     "metadata": {},
     "output_type": "execute_result"
    }
   ],
   "source": [
    "pred = forest_imp.predict(X_test)\n",
    "mean_squared_error(y_test, pred, squared=False)"
   ]
  },
  {
   "cell_type": "markdown",
   "id": "8fd0f02a-c9f7-47b6-b804-32dda8799a7b",
   "metadata": {},
   "source": [
    "The model trained on all features showed RMSE = 0.0038\n",
    "The model trained only on the most informative features showed RMSE = 0.0016"
   ]
  },
  {
   "cell_type": "markdown",
   "id": "74f32085-910c-4946-98f0-8884b735b434",
   "metadata": {},
   "source": [
    "We use RandomizedSearchCV to find the best value for the number of trees in the random forest. Among the numbers from 50 to 250, the model with n_estimators = 250 showed the best result. We will check if the model works better by increasing n_estimators to 500."
   ]
  },
  {
   "cell_type": "code",
   "execution_count": 79,
   "id": "9356f05f-5da2-4124-ba51-3b58f7d96dc2",
   "metadata": {},
   "outputs": [],
   "source": [
    "from sklearn.model_selection import RandomizedSearchCV\n",
    "n_estimators = [int(x) for x in range(250, 500, 100)]\n",
    "\n",
    "random_grid = {'n_estimators': n_estimators}\n"
   ]
  },
  {
   "cell_type": "code",
   "execution_count": 80,
   "id": "6bb1fef0-a231-4a7a-a9aa-2a781d2e5154",
   "metadata": {
    "tags": []
   },
   "outputs": [
    {
     "name": "stderr",
     "output_type": "stream",
     "text": [
      "c:\\python38\\lib\\site-packages\\sklearn\\model_selection\\_search.py:305: UserWarning: The total space of parameters 3 is smaller than n_iter=10. Running 3 iterations. For exhaustive searches, use GridSearchCV.\n",
      "  warnings.warn(\n"
     ]
    },
    {
     "data": {
      "text/html": [
       "<style>#sk-container-id-11 {color: black;background-color: white;}#sk-container-id-11 pre{padding: 0;}#sk-container-id-11 div.sk-toggleable {background-color: white;}#sk-container-id-11 label.sk-toggleable__label {cursor: pointer;display: block;width: 100%;margin-bottom: 0;padding: 0.3em;box-sizing: border-box;text-align: center;}#sk-container-id-11 label.sk-toggleable__label-arrow:before {content: \"▸\";float: left;margin-right: 0.25em;color: #696969;}#sk-container-id-11 label.sk-toggleable__label-arrow:hover:before {color: black;}#sk-container-id-11 div.sk-estimator:hover label.sk-toggleable__label-arrow:before {color: black;}#sk-container-id-11 div.sk-toggleable__content {max-height: 0;max-width: 0;overflow: hidden;text-align: left;background-color: #f0f8ff;}#sk-container-id-11 div.sk-toggleable__content pre {margin: 0.2em;color: black;border-radius: 0.25em;background-color: #f0f8ff;}#sk-container-id-11 input.sk-toggleable__control:checked~div.sk-toggleable__content {max-height: 200px;max-width: 100%;overflow: auto;}#sk-container-id-11 input.sk-toggleable__control:checked~label.sk-toggleable__label-arrow:before {content: \"▾\";}#sk-container-id-11 div.sk-estimator input.sk-toggleable__control:checked~label.sk-toggleable__label {background-color: #d4ebff;}#sk-container-id-11 div.sk-label input.sk-toggleable__control:checked~label.sk-toggleable__label {background-color: #d4ebff;}#sk-container-id-11 input.sk-hidden--visually {border: 0;clip: rect(1px 1px 1px 1px);clip: rect(1px, 1px, 1px, 1px);height: 1px;margin: -1px;overflow: hidden;padding: 0;position: absolute;width: 1px;}#sk-container-id-11 div.sk-estimator {font-family: monospace;background-color: #f0f8ff;border: 1px dotted black;border-radius: 0.25em;box-sizing: border-box;margin-bottom: 0.5em;}#sk-container-id-11 div.sk-estimator:hover {background-color: #d4ebff;}#sk-container-id-11 div.sk-parallel-item::after {content: \"\";width: 100%;border-bottom: 1px solid gray;flex-grow: 1;}#sk-container-id-11 div.sk-label:hover label.sk-toggleable__label {background-color: #d4ebff;}#sk-container-id-11 div.sk-serial::before {content: \"\";position: absolute;border-left: 1px solid gray;box-sizing: border-box;top: 0;bottom: 0;left: 50%;z-index: 0;}#sk-container-id-11 div.sk-serial {display: flex;flex-direction: column;align-items: center;background-color: white;padding-right: 0.2em;padding-left: 0.2em;position: relative;}#sk-container-id-11 div.sk-item {position: relative;z-index: 1;}#sk-container-id-11 div.sk-parallel {display: flex;align-items: stretch;justify-content: center;background-color: white;position: relative;}#sk-container-id-11 div.sk-item::before, #sk-container-id-11 div.sk-parallel-item::before {content: \"\";position: absolute;border-left: 1px solid gray;box-sizing: border-box;top: 0;bottom: 0;left: 50%;z-index: -1;}#sk-container-id-11 div.sk-parallel-item {display: flex;flex-direction: column;z-index: 1;position: relative;background-color: white;}#sk-container-id-11 div.sk-parallel-item:first-child::after {align-self: flex-end;width: 50%;}#sk-container-id-11 div.sk-parallel-item:last-child::after {align-self: flex-start;width: 50%;}#sk-container-id-11 div.sk-parallel-item:only-child::after {width: 0;}#sk-container-id-11 div.sk-dashed-wrapped {border: 1px dashed gray;margin: 0 0.4em 0.5em 0.4em;box-sizing: border-box;padding-bottom: 0.4em;background-color: white;}#sk-container-id-11 div.sk-label label {font-family: monospace;font-weight: bold;display: inline-block;line-height: 1.2em;}#sk-container-id-11 div.sk-label-container {text-align: center;}#sk-container-id-11 div.sk-container {/* jupyter's `normalize.less` sets `[hidden] { display: none; }` but bootstrap.min.css set `[hidden] { display: none !important; }` so we also need the `!important` here to be able to override the default hidden behavior on the sphinx rendered scikit-learn.org. See: https://github.com/scikit-learn/scikit-learn/issues/21755 */display: inline-block !important;position: relative;}#sk-container-id-11 div.sk-text-repr-fallback {display: none;}</style><div id=\"sk-container-id-11\" class=\"sk-top-container\"><div class=\"sk-text-repr-fallback\"><pre>RandomizedSearchCV(estimator=RandomForestRegressor(),\n",
       "                   param_distributions={&#x27;n_estimators&#x27;: [250, 350, 450]})</pre><b>In a Jupyter environment, please rerun this cell to show the HTML representation or trust the notebook. <br />On GitHub, the HTML representation is unable to render, please try loading this page with nbviewer.org.</b></div><div class=\"sk-container\" hidden><div class=\"sk-item sk-dashed-wrapped\"><div class=\"sk-label-container\"><div class=\"sk-label sk-toggleable\"><input class=\"sk-toggleable__control sk-hidden--visually\" id=\"sk-estimator-id-17\" type=\"checkbox\" ><label for=\"sk-estimator-id-17\" class=\"sk-toggleable__label sk-toggleable__label-arrow\">RandomizedSearchCV</label><div class=\"sk-toggleable__content\"><pre>RandomizedSearchCV(estimator=RandomForestRegressor(),\n",
       "                   param_distributions={&#x27;n_estimators&#x27;: [250, 350, 450]})</pre></div></div></div><div class=\"sk-parallel\"><div class=\"sk-parallel-item\"><div class=\"sk-item\"><div class=\"sk-label-container\"><div class=\"sk-label sk-toggleable\"><input class=\"sk-toggleable__control sk-hidden--visually\" id=\"sk-estimator-id-18\" type=\"checkbox\" ><label for=\"sk-estimator-id-18\" class=\"sk-toggleable__label sk-toggleable__label-arrow\">estimator: RandomForestRegressor</label><div class=\"sk-toggleable__content\"><pre>RandomForestRegressor()</pre></div></div></div><div class=\"sk-serial\"><div class=\"sk-item\"><div class=\"sk-estimator sk-toggleable\"><input class=\"sk-toggleable__control sk-hidden--visually\" id=\"sk-estimator-id-19\" type=\"checkbox\" ><label for=\"sk-estimator-id-19\" class=\"sk-toggleable__label sk-toggleable__label-arrow\">RandomForestRegressor</label><div class=\"sk-toggleable__content\"><pre>RandomForestRegressor()</pre></div></div></div></div></div></div></div></div></div></div>"
      ],
      "text/plain": [
       "RandomizedSearchCV(estimator=RandomForestRegressor(),\n",
       "                   param_distributions={'n_estimators': [250, 350, 450]})"
      ]
     },
     "execution_count": 80,
     "metadata": {},
     "output_type": "execute_result"
    }
   ],
   "source": [
    "rf = RandomForestRegressor()\n",
    "rf_random = RandomizedSearchCV(estimator = rf, param_distributions = random_grid)\n",
    "rf_random.fit(X_train, y_train)"
   ]
  },
  {
   "cell_type": "code",
   "execution_count": 81,
   "id": "1405e37d-28d1-4973-9639-30425ead4a53",
   "metadata": {},
   "outputs": [
    {
     "data": {
      "text/plain": [
       "{'n_estimators': 450}"
      ]
     },
     "execution_count": 81,
     "metadata": {},
     "output_type": "execute_result"
    }
   ],
   "source": [
    "rf_random.best_params_"
   ]
  },
  {
   "cell_type": "markdown",
   "id": "6b722733-a7bd-492a-9595-e999e30d9929",
   "metadata": {
    "tags": []
   },
   "source": [
    "The RandomizedSearchCV can be used to continue tuning hyperparameters, but the search can be time-consuming, so we will stick with n_estimators = 450.\n",
    "## Let's train the model with the best parameter."
   ]
  },
  {
   "cell_type": "code",
   "execution_count": 99,
   "id": "59e08fc9-41ea-44fe-ae5d-12b9d04d6846",
   "metadata": {},
   "outputs": [
    {
     "data": {
      "text/html": [
       "<style>#sk-container-id-14 {color: black;background-color: white;}#sk-container-id-14 pre{padding: 0;}#sk-container-id-14 div.sk-toggleable {background-color: white;}#sk-container-id-14 label.sk-toggleable__label {cursor: pointer;display: block;width: 100%;margin-bottom: 0;padding: 0.3em;box-sizing: border-box;text-align: center;}#sk-container-id-14 label.sk-toggleable__label-arrow:before {content: \"▸\";float: left;margin-right: 0.25em;color: #696969;}#sk-container-id-14 label.sk-toggleable__label-arrow:hover:before {color: black;}#sk-container-id-14 div.sk-estimator:hover label.sk-toggleable__label-arrow:before {color: black;}#sk-container-id-14 div.sk-toggleable__content {max-height: 0;max-width: 0;overflow: hidden;text-align: left;background-color: #f0f8ff;}#sk-container-id-14 div.sk-toggleable__content pre {margin: 0.2em;color: black;border-radius: 0.25em;background-color: #f0f8ff;}#sk-container-id-14 input.sk-toggleable__control:checked~div.sk-toggleable__content {max-height: 200px;max-width: 100%;overflow: auto;}#sk-container-id-14 input.sk-toggleable__control:checked~label.sk-toggleable__label-arrow:before {content: \"▾\";}#sk-container-id-14 div.sk-estimator input.sk-toggleable__control:checked~label.sk-toggleable__label {background-color: #d4ebff;}#sk-container-id-14 div.sk-label input.sk-toggleable__control:checked~label.sk-toggleable__label {background-color: #d4ebff;}#sk-container-id-14 input.sk-hidden--visually {border: 0;clip: rect(1px 1px 1px 1px);clip: rect(1px, 1px, 1px, 1px);height: 1px;margin: -1px;overflow: hidden;padding: 0;position: absolute;width: 1px;}#sk-container-id-14 div.sk-estimator {font-family: monospace;background-color: #f0f8ff;border: 1px dotted black;border-radius: 0.25em;box-sizing: border-box;margin-bottom: 0.5em;}#sk-container-id-14 div.sk-estimator:hover {background-color: #d4ebff;}#sk-container-id-14 div.sk-parallel-item::after {content: \"\";width: 100%;border-bottom: 1px solid gray;flex-grow: 1;}#sk-container-id-14 div.sk-label:hover label.sk-toggleable__label {background-color: #d4ebff;}#sk-container-id-14 div.sk-serial::before {content: \"\";position: absolute;border-left: 1px solid gray;box-sizing: border-box;top: 0;bottom: 0;left: 50%;z-index: 0;}#sk-container-id-14 div.sk-serial {display: flex;flex-direction: column;align-items: center;background-color: white;padding-right: 0.2em;padding-left: 0.2em;position: relative;}#sk-container-id-14 div.sk-item {position: relative;z-index: 1;}#sk-container-id-14 div.sk-parallel {display: flex;align-items: stretch;justify-content: center;background-color: white;position: relative;}#sk-container-id-14 div.sk-item::before, #sk-container-id-14 div.sk-parallel-item::before {content: \"\";position: absolute;border-left: 1px solid gray;box-sizing: border-box;top: 0;bottom: 0;left: 50%;z-index: -1;}#sk-container-id-14 div.sk-parallel-item {display: flex;flex-direction: column;z-index: 1;position: relative;background-color: white;}#sk-container-id-14 div.sk-parallel-item:first-child::after {align-self: flex-end;width: 50%;}#sk-container-id-14 div.sk-parallel-item:last-child::after {align-self: flex-start;width: 50%;}#sk-container-id-14 div.sk-parallel-item:only-child::after {width: 0;}#sk-container-id-14 div.sk-dashed-wrapped {border: 1px dashed gray;margin: 0 0.4em 0.5em 0.4em;box-sizing: border-box;padding-bottom: 0.4em;background-color: white;}#sk-container-id-14 div.sk-label label {font-family: monospace;font-weight: bold;display: inline-block;line-height: 1.2em;}#sk-container-id-14 div.sk-label-container {text-align: center;}#sk-container-id-14 div.sk-container {/* jupyter's `normalize.less` sets `[hidden] { display: none; }` but bootstrap.min.css set `[hidden] { display: none !important; }` so we also need the `!important` here to be able to override the default hidden behavior on the sphinx rendered scikit-learn.org. See: https://github.com/scikit-learn/scikit-learn/issues/21755 */display: inline-block !important;position: relative;}#sk-container-id-14 div.sk-text-repr-fallback {display: none;}</style><div id=\"sk-container-id-14\" class=\"sk-top-container\"><div class=\"sk-text-repr-fallback\"><pre>RandomForestRegressor(n_estimators=450, random_state=0)</pre><b>In a Jupyter environment, please rerun this cell to show the HTML representation or trust the notebook. <br />On GitHub, the HTML representation is unable to render, please try loading this page with nbviewer.org.</b></div><div class=\"sk-container\" hidden><div class=\"sk-item\"><div class=\"sk-estimator sk-toggleable\"><input class=\"sk-toggleable__control sk-hidden--visually\" id=\"sk-estimator-id-22\" type=\"checkbox\" checked><label for=\"sk-estimator-id-22\" class=\"sk-toggleable__label sk-toggleable__label-arrow\">RandomForestRegressor</label><div class=\"sk-toggleable__content\"><pre>RandomForestRegressor(n_estimators=450, random_state=0)</pre></div></div></div></div></div>"
      ],
      "text/plain": [
       "RandomForestRegressor(n_estimators=450, random_state=0)"
      ]
     },
     "execution_count": 99,
     "metadata": {},
     "output_type": "execute_result"
    }
   ],
   "source": [
    "forest_imp_450 = RandomForestRegressor(n_estimators=450, random_state=0)\n",
    "forest_imp_450.fit(X_train, y_train)"
   ]
  },
  {
   "cell_type": "code",
   "execution_count": 100,
   "id": "d8b25436-04e3-4d04-aa11-2ddfef9eb22e",
   "metadata": {},
   "outputs": [
    {
     "data": {
      "text/plain": [
       "0.0015850942921462317"
      ]
     },
     "execution_count": 100,
     "metadata": {},
     "output_type": "execute_result"
    }
   ],
   "source": [
    "pred = forest_imp_450.predict(X_test)\n",
    "mean_squared_error(y_test, pred, squared=False)"
   ]
  },
  {
   "cell_type": "markdown",
   "id": "e8aba342-c2c3-4ab6-9782-73ddd157e8d9",
   "metadata": {},
   "source": [
    "## Testing"
   ]
  },
  {
   "cell_type": "code",
   "execution_count": 101,
   "id": "c6c341d6-cbfc-4d58-90ed-2b237165b159",
   "metadata": {},
   "outputs": [],
   "source": [
    "test_df = pd.read_csv('internship_hidden_test.csv')"
   ]
  },
  {
   "cell_type": "code",
   "execution_count": 102,
   "id": "a69385bf-4907-4551-b985-74e22c2f3d9f",
   "metadata": {},
   "outputs": [],
   "source": [
    "X_test = test_df[['6', '7']]"
   ]
  },
  {
   "cell_type": "code",
   "execution_count": 103,
   "id": "f1da12a3-5831-4ae1-96a2-dbe45d4ae3ba",
   "metadata": {},
   "outputs": [],
   "source": [
    "pred = forest_imp_450.predict(X_test)"
   ]
  },
  {
   "cell_type": "markdown",
   "id": "a81d548d-df8a-47be-b83c-8cbcb4f430c5",
   "metadata": {},
   "source": [
    "Let's save the result to a file."
   ]
  },
  {
   "cell_type": "code",
   "execution_count": 104,
   "id": "385371ca-5980-431a-9e5a-3045074b7f38",
   "metadata": {},
   "outputs": [],
   "source": [
    "output = pd.DataFrame({'id': X_test.index,\n",
    "                       'target': pred})\n",
    "output.to_csv('model_predictions.csv', index=False)"
   ]
  }
 ],
 "metadata": {
  "kernelspec": {
   "display_name": "Python 3 (ipykernel)",
   "language": "python",
   "name": "python3"
  },
  "language_info": {
   "codemirror_mode": {
    "name": "ipython",
    "version": 3
   },
   "file_extension": ".py",
   "mimetype": "text/x-python",
   "name": "python",
   "nbconvert_exporter": "python",
   "pygments_lexer": "ipython3",
   "version": "3.8.3"
  }
 },
 "nbformat": 4,
 "nbformat_minor": 5
}
